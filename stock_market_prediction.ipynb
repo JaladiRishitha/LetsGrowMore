{
  "nbformat": 4,
  "nbformat_minor": 0,
  "metadata": {
    "colab": {
      "provenance": [],
      "authorship_tag": "ABX9TyMcCzTPp1+/s0FxEt5R2E9q",
      "include_colab_link": true
    },
    "kernelspec": {
      "name": "python3",
      "display_name": "Python 3"
    },
    "language_info": {
      "name": "python"
    }
  },
  "cells": [
    {
      "cell_type": "markdown",
      "metadata": {
        "id": "view-in-github",
        "colab_type": "text"
      },
      "source": [
        "<a href=\"https://colab.research.google.com/github/JaladiRishitha/LetsGrowMore/blob/main/stock_market_prediction.ipynb\" target=\"_parent\"><img src=\"https://colab.research.google.com/assets/colab-badge.svg\" alt=\"Open In Colab\"/></a>"
      ]
    },
    {
      "cell_type": "code",
      "execution_count": null,
      "metadata": {
        "colab": {
          "base_uri": "https://localhost:8080/",
          "height": 658
        },
        "id": "tldGnNC8534G",
        "outputId": "1fd76e89-5574-4144-f339-9249b633f561"
      },
      "outputs": [
        {
          "output_type": "execute_result",
          "data": {
            "text/plain": [
              "            Date    Open    High     Low    Last   Close  \\\n",
              "0     2018-09-28  234.05  235.95  230.20  233.50  233.75   \n",
              "1     2018-09-27  234.55  236.80  231.10  233.80  233.25   \n",
              "2     2018-09-26  240.00  240.00  232.50  235.00  234.25   \n",
              "3     2018-09-25  233.30  236.75  232.00  236.25  236.10   \n",
              "4     2018-09-24  233.55  239.20  230.75  234.00  233.30   \n",
              "...          ...     ...     ...     ...     ...     ...   \n",
              "2030  2010-07-27  117.60  119.50  112.00  118.80  118.65   \n",
              "2031  2010-07-26  120.10  121.00  117.10  117.10  117.60   \n",
              "2032  2010-07-23  121.80  121.95  120.25  120.35  120.65   \n",
              "2033  2010-07-22  120.30  122.00  120.25  120.75  120.90   \n",
              "2034  2010-07-21  122.10  123.00  121.05  121.10  121.55   \n",
              "\n",
              "      Total Trade Quantity  Turnover (Lacs)  \n",
              "0                  3069914          7162.35  \n",
              "1                  5082859         11859.95  \n",
              "2                  2240909          5248.60  \n",
              "3                  2349368          5503.90  \n",
              "4                  3423509          7999.55  \n",
              "...                    ...              ...  \n",
              "2030                586100           694.98  \n",
              "2031                658440           780.01  \n",
              "2032                281312           340.31  \n",
              "2033                293312           355.17  \n",
              "2034                658666           803.56  \n",
              "\n",
              "[2035 rows x 8 columns]"
            ],
            "text/html": [
              "\n",
              "  <div id=\"df-a1989741-1d6c-44e0-8278-9e8d71b95b0d\">\n",
              "    <div class=\"colab-df-container\">\n",
              "      <div>\n",
              "<style scoped>\n",
              "    .dataframe tbody tr th:only-of-type {\n",
              "        vertical-align: middle;\n",
              "    }\n",
              "\n",
              "    .dataframe tbody tr th {\n",
              "        vertical-align: top;\n",
              "    }\n",
              "\n",
              "    .dataframe thead th {\n",
              "        text-align: right;\n",
              "    }\n",
              "</style>\n",
              "<table border=\"1\" class=\"dataframe\">\n",
              "  <thead>\n",
              "    <tr style=\"text-align: right;\">\n",
              "      <th></th>\n",
              "      <th>Date</th>\n",
              "      <th>Open</th>\n",
              "      <th>High</th>\n",
              "      <th>Low</th>\n",
              "      <th>Last</th>\n",
              "      <th>Close</th>\n",
              "      <th>Total Trade Quantity</th>\n",
              "      <th>Turnover (Lacs)</th>\n",
              "    </tr>\n",
              "  </thead>\n",
              "  <tbody>\n",
              "    <tr>\n",
              "      <th>0</th>\n",
              "      <td>2018-09-28</td>\n",
              "      <td>234.05</td>\n",
              "      <td>235.95</td>\n",
              "      <td>230.20</td>\n",
              "      <td>233.50</td>\n",
              "      <td>233.75</td>\n",
              "      <td>3069914</td>\n",
              "      <td>7162.35</td>\n",
              "    </tr>\n",
              "    <tr>\n",
              "      <th>1</th>\n",
              "      <td>2018-09-27</td>\n",
              "      <td>234.55</td>\n",
              "      <td>236.80</td>\n",
              "      <td>231.10</td>\n",
              "      <td>233.80</td>\n",
              "      <td>233.25</td>\n",
              "      <td>5082859</td>\n",
              "      <td>11859.95</td>\n",
              "    </tr>\n",
              "    <tr>\n",
              "      <th>2</th>\n",
              "      <td>2018-09-26</td>\n",
              "      <td>240.00</td>\n",
              "      <td>240.00</td>\n",
              "      <td>232.50</td>\n",
              "      <td>235.00</td>\n",
              "      <td>234.25</td>\n",
              "      <td>2240909</td>\n",
              "      <td>5248.60</td>\n",
              "    </tr>\n",
              "    <tr>\n",
              "      <th>3</th>\n",
              "      <td>2018-09-25</td>\n",
              "      <td>233.30</td>\n",
              "      <td>236.75</td>\n",
              "      <td>232.00</td>\n",
              "      <td>236.25</td>\n",
              "      <td>236.10</td>\n",
              "      <td>2349368</td>\n",
              "      <td>5503.90</td>\n",
              "    </tr>\n",
              "    <tr>\n",
              "      <th>4</th>\n",
              "      <td>2018-09-24</td>\n",
              "      <td>233.55</td>\n",
              "      <td>239.20</td>\n",
              "      <td>230.75</td>\n",
              "      <td>234.00</td>\n",
              "      <td>233.30</td>\n",
              "      <td>3423509</td>\n",
              "      <td>7999.55</td>\n",
              "    </tr>\n",
              "    <tr>\n",
              "      <th>...</th>\n",
              "      <td>...</td>\n",
              "      <td>...</td>\n",
              "      <td>...</td>\n",
              "      <td>...</td>\n",
              "      <td>...</td>\n",
              "      <td>...</td>\n",
              "      <td>...</td>\n",
              "      <td>...</td>\n",
              "    </tr>\n",
              "    <tr>\n",
              "      <th>2030</th>\n",
              "      <td>2010-07-27</td>\n",
              "      <td>117.60</td>\n",
              "      <td>119.50</td>\n",
              "      <td>112.00</td>\n",
              "      <td>118.80</td>\n",
              "      <td>118.65</td>\n",
              "      <td>586100</td>\n",
              "      <td>694.98</td>\n",
              "    </tr>\n",
              "    <tr>\n",
              "      <th>2031</th>\n",
              "      <td>2010-07-26</td>\n",
              "      <td>120.10</td>\n",
              "      <td>121.00</td>\n",
              "      <td>117.10</td>\n",
              "      <td>117.10</td>\n",
              "      <td>117.60</td>\n",
              "      <td>658440</td>\n",
              "      <td>780.01</td>\n",
              "    </tr>\n",
              "    <tr>\n",
              "      <th>2032</th>\n",
              "      <td>2010-07-23</td>\n",
              "      <td>121.80</td>\n",
              "      <td>121.95</td>\n",
              "      <td>120.25</td>\n",
              "      <td>120.35</td>\n",
              "      <td>120.65</td>\n",
              "      <td>281312</td>\n",
              "      <td>340.31</td>\n",
              "    </tr>\n",
              "    <tr>\n",
              "      <th>2033</th>\n",
              "      <td>2010-07-22</td>\n",
              "      <td>120.30</td>\n",
              "      <td>122.00</td>\n",
              "      <td>120.25</td>\n",
              "      <td>120.75</td>\n",
              "      <td>120.90</td>\n",
              "      <td>293312</td>\n",
              "      <td>355.17</td>\n",
              "    </tr>\n",
              "    <tr>\n",
              "      <th>2034</th>\n",
              "      <td>2010-07-21</td>\n",
              "      <td>122.10</td>\n",
              "      <td>123.00</td>\n",
              "      <td>121.05</td>\n",
              "      <td>121.10</td>\n",
              "      <td>121.55</td>\n",
              "      <td>658666</td>\n",
              "      <td>803.56</td>\n",
              "    </tr>\n",
              "  </tbody>\n",
              "</table>\n",
              "<p>2035 rows × 8 columns</p>\n",
              "</div>\n",
              "      <button class=\"colab-df-convert\" onclick=\"convertToInteractive('df-a1989741-1d6c-44e0-8278-9e8d71b95b0d')\"\n",
              "              title=\"Convert this dataframe to an interactive table.\"\n",
              "              style=\"display:none;\">\n",
              "        \n",
              "  <svg xmlns=\"http://www.w3.org/2000/svg\" height=\"24px\"viewBox=\"0 0 24 24\"\n",
              "       width=\"24px\">\n",
              "    <path d=\"M0 0h24v24H0V0z\" fill=\"none\"/>\n",
              "    <path d=\"M18.56 5.44l.94 2.06.94-2.06 2.06-.94-2.06-.94-.94-2.06-.94 2.06-2.06.94zm-11 1L8.5 8.5l.94-2.06 2.06-.94-2.06-.94L8.5 2.5l-.94 2.06-2.06.94zm10 10l.94 2.06.94-2.06 2.06-.94-2.06-.94-.94-2.06-.94 2.06-2.06.94z\"/><path d=\"M17.41 7.96l-1.37-1.37c-.4-.4-.92-.59-1.43-.59-.52 0-1.04.2-1.43.59L10.3 9.45l-7.72 7.72c-.78.78-.78 2.05 0 2.83L4 21.41c.39.39.9.59 1.41.59.51 0 1.02-.2 1.41-.59l7.78-7.78 2.81-2.81c.8-.78.8-2.07 0-2.86zM5.41 20L4 18.59l7.72-7.72 1.47 1.35L5.41 20z\"/>\n",
              "  </svg>\n",
              "      </button>\n",
              "      \n",
              "  <style>\n",
              "    .colab-df-container {\n",
              "      display:flex;\n",
              "      flex-wrap:wrap;\n",
              "      gap: 12px;\n",
              "    }\n",
              "\n",
              "    .colab-df-convert {\n",
              "      background-color: #E8F0FE;\n",
              "      border: none;\n",
              "      border-radius: 50%;\n",
              "      cursor: pointer;\n",
              "      display: none;\n",
              "      fill: #1967D2;\n",
              "      height: 32px;\n",
              "      padding: 0 0 0 0;\n",
              "      width: 32px;\n",
              "    }\n",
              "\n",
              "    .colab-df-convert:hover {\n",
              "      background-color: #E2EBFA;\n",
              "      box-shadow: 0px 1px 2px rgba(60, 64, 67, 0.3), 0px 1px 3px 1px rgba(60, 64, 67, 0.15);\n",
              "      fill: #174EA6;\n",
              "    }\n",
              "\n",
              "    [theme=dark] .colab-df-convert {\n",
              "      background-color: #3B4455;\n",
              "      fill: #D2E3FC;\n",
              "    }\n",
              "\n",
              "    [theme=dark] .colab-df-convert:hover {\n",
              "      background-color: #434B5C;\n",
              "      box-shadow: 0px 1px 3px 1px rgba(0, 0, 0, 0.15);\n",
              "      filter: drop-shadow(0px 1px 2px rgba(0, 0, 0, 0.3));\n",
              "      fill: #FFFFFF;\n",
              "    }\n",
              "  </style>\n",
              "\n",
              "      <script>\n",
              "        const buttonEl =\n",
              "          document.querySelector('#df-a1989741-1d6c-44e0-8278-9e8d71b95b0d button.colab-df-convert');\n",
              "        buttonEl.style.display =\n",
              "          google.colab.kernel.accessAllowed ? 'block' : 'none';\n",
              "\n",
              "        async function convertToInteractive(key) {\n",
              "          const element = document.querySelector('#df-a1989741-1d6c-44e0-8278-9e8d71b95b0d');\n",
              "          const dataTable =\n",
              "            await google.colab.kernel.invokeFunction('convertToInteractive',\n",
              "                                                     [key], {});\n",
              "          if (!dataTable) return;\n",
              "\n",
              "          const docLinkHtml = 'Like what you see? Visit the ' +\n",
              "            '<a target=\"_blank\" href=https://colab.research.google.com/notebooks/data_table.ipynb>data table notebook</a>'\n",
              "            + ' to learn more about interactive tables.';\n",
              "          element.innerHTML = '';\n",
              "          dataTable['output_type'] = 'display_data';\n",
              "          await google.colab.output.renderOutput(dataTable, element);\n",
              "          const docLink = document.createElement('div');\n",
              "          docLink.innerHTML = docLinkHtml;\n",
              "          element.appendChild(docLink);\n",
              "        }\n",
              "      </script>\n",
              "    </div>\n",
              "  </div>\n",
              "  "
            ]
          },
          "metadata": {},
          "execution_count": 1
        }
      ],
      "source": [
        "import numpy as np\n",
        "import pandas as pd\n",
        "stock=pd.read_csv('NSE-TATAGLOBAL.csv')\n",
        "stock"
      ]
    },
    {
      "cell_type": "markdown",
      "source": [
        "**Information about the dataset**"
      ],
      "metadata": {
        "id": "F7fIi01-76RZ"
      }
    },
    {
      "cell_type": "code",
      "source": [
        "stock.shape\n",
        "stock.info()\n",
        "stock.dtypes"
      ],
      "metadata": {
        "colab": {
          "base_uri": "https://localhost:8080/"
        },
        "id": "MCNXTP7b795Z",
        "outputId": "01c97db8-6687-4b9b-fc81-132a2a413e2a"
      },
      "execution_count": null,
      "outputs": [
        {
          "output_type": "stream",
          "name": "stdout",
          "text": [
            "<class 'pandas.core.frame.DataFrame'>\n",
            "RangeIndex: 2035 entries, 0 to 2034\n",
            "Data columns (total 8 columns):\n",
            " #   Column                Non-Null Count  Dtype  \n",
            "---  ------                --------------  -----  \n",
            " 0   Date                  2035 non-null   object \n",
            " 1   Open                  2035 non-null   float64\n",
            " 2   High                  2035 non-null   float64\n",
            " 3   Low                   2035 non-null   float64\n",
            " 4   Last                  2035 non-null   float64\n",
            " 5   Close                 2035 non-null   float64\n",
            " 6   Total Trade Quantity  2035 non-null   int64  \n",
            " 7   Turnover (Lacs)       2035 non-null   float64\n",
            "dtypes: float64(6), int64(1), object(1)\n",
            "memory usage: 127.3+ KB\n"
          ]
        },
        {
          "output_type": "execute_result",
          "data": {
            "text/plain": [
              "Date                     object\n",
              "Open                    float64\n",
              "High                    float64\n",
              "Low                     float64\n",
              "Last                    float64\n",
              "Close                   float64\n",
              "Total Trade Quantity      int64\n",
              "Turnover (Lacs)         float64\n",
              "dtype: object"
            ]
          },
          "metadata": {},
          "execution_count": 2
        }
      ]
    },
    {
      "cell_type": "markdown",
      "source": [
        "**Checking for the null values**"
      ],
      "metadata": {
        "id": "LWwg9G_Z8GAy"
      }
    },
    {
      "cell_type": "code",
      "source": [
        "missing_value_count=stock.isnull().sum()\n",
        "total_cells=np.product(stock.shape)\n",
        "total_missing=missing_value_count.sum()\n",
        "percentage_missing=(total_missing/total_cells)*100\n",
        "print(percentage_missing)"
      ],
      "metadata": {
        "colab": {
          "base_uri": "https://localhost:8080/"
        },
        "id": "4Ww4HkqJ8OlK",
        "outputId": "ea488be0-1ab4-42c7-a22a-9e2e06233135"
      },
      "execution_count": null,
      "outputs": [
        {
          "output_type": "stream",
          "name": "stdout",
          "text": [
            "0.0\n"
          ]
        }
      ]
    },
    {
      "cell_type": "code",
      "source": [
        "stock=stock[::-1]\n",
        "stock"
      ],
      "metadata": {
        "colab": {
          "base_uri": "https://localhost:8080/",
          "height": 658
        },
        "id": "N2TvCqwD8Sw9",
        "outputId": "ded8cdab-a6c4-4af7-862f-e13041440297"
      },
      "execution_count": null,
      "outputs": [
        {
          "output_type": "execute_result",
          "data": {
            "text/plain": [
              "            Date    Open    High     Low    Last   Close  \\\n",
              "2034  2010-07-21  122.10  123.00  121.05  121.10  121.55   \n",
              "2033  2010-07-22  120.30  122.00  120.25  120.75  120.90   \n",
              "2032  2010-07-23  121.80  121.95  120.25  120.35  120.65   \n",
              "2031  2010-07-26  120.10  121.00  117.10  117.10  117.60   \n",
              "2030  2010-07-27  117.60  119.50  112.00  118.80  118.65   \n",
              "...          ...     ...     ...     ...     ...     ...   \n",
              "4     2018-09-24  233.55  239.20  230.75  234.00  233.30   \n",
              "3     2018-09-25  233.30  236.75  232.00  236.25  236.10   \n",
              "2     2018-09-26  240.00  240.00  232.50  235.00  234.25   \n",
              "1     2018-09-27  234.55  236.80  231.10  233.80  233.25   \n",
              "0     2018-09-28  234.05  235.95  230.20  233.50  233.75   \n",
              "\n",
              "      Total Trade Quantity  Turnover (Lacs)  \n",
              "2034                658666           803.56  \n",
              "2033                293312           355.17  \n",
              "2032                281312           340.31  \n",
              "2031                658440           780.01  \n",
              "2030                586100           694.98  \n",
              "...                    ...              ...  \n",
              "4                  3423509          7999.55  \n",
              "3                  2349368          5503.90  \n",
              "2                  2240909          5248.60  \n",
              "1                  5082859         11859.95  \n",
              "0                  3069914          7162.35  \n",
              "\n",
              "[2035 rows x 8 columns]"
            ],
            "text/html": [
              "\n",
              "  <div id=\"df-beff334f-424f-4f27-bbd0-c4497ea2d3b3\">\n",
              "    <div class=\"colab-df-container\">\n",
              "      <div>\n",
              "<style scoped>\n",
              "    .dataframe tbody tr th:only-of-type {\n",
              "        vertical-align: middle;\n",
              "    }\n",
              "\n",
              "    .dataframe tbody tr th {\n",
              "        vertical-align: top;\n",
              "    }\n",
              "\n",
              "    .dataframe thead th {\n",
              "        text-align: right;\n",
              "    }\n",
              "</style>\n",
              "<table border=\"1\" class=\"dataframe\">\n",
              "  <thead>\n",
              "    <tr style=\"text-align: right;\">\n",
              "      <th></th>\n",
              "      <th>Date</th>\n",
              "      <th>Open</th>\n",
              "      <th>High</th>\n",
              "      <th>Low</th>\n",
              "      <th>Last</th>\n",
              "      <th>Close</th>\n",
              "      <th>Total Trade Quantity</th>\n",
              "      <th>Turnover (Lacs)</th>\n",
              "    </tr>\n",
              "  </thead>\n",
              "  <tbody>\n",
              "    <tr>\n",
              "      <th>2034</th>\n",
              "      <td>2010-07-21</td>\n",
              "      <td>122.10</td>\n",
              "      <td>123.00</td>\n",
              "      <td>121.05</td>\n",
              "      <td>121.10</td>\n",
              "      <td>121.55</td>\n",
              "      <td>658666</td>\n",
              "      <td>803.56</td>\n",
              "    </tr>\n",
              "    <tr>\n",
              "      <th>2033</th>\n",
              "      <td>2010-07-22</td>\n",
              "      <td>120.30</td>\n",
              "      <td>122.00</td>\n",
              "      <td>120.25</td>\n",
              "      <td>120.75</td>\n",
              "      <td>120.90</td>\n",
              "      <td>293312</td>\n",
              "      <td>355.17</td>\n",
              "    </tr>\n",
              "    <tr>\n",
              "      <th>2032</th>\n",
              "      <td>2010-07-23</td>\n",
              "      <td>121.80</td>\n",
              "      <td>121.95</td>\n",
              "      <td>120.25</td>\n",
              "      <td>120.35</td>\n",
              "      <td>120.65</td>\n",
              "      <td>281312</td>\n",
              "      <td>340.31</td>\n",
              "    </tr>\n",
              "    <tr>\n",
              "      <th>2031</th>\n",
              "      <td>2010-07-26</td>\n",
              "      <td>120.10</td>\n",
              "      <td>121.00</td>\n",
              "      <td>117.10</td>\n",
              "      <td>117.10</td>\n",
              "      <td>117.60</td>\n",
              "      <td>658440</td>\n",
              "      <td>780.01</td>\n",
              "    </tr>\n",
              "    <tr>\n",
              "      <th>2030</th>\n",
              "      <td>2010-07-27</td>\n",
              "      <td>117.60</td>\n",
              "      <td>119.50</td>\n",
              "      <td>112.00</td>\n",
              "      <td>118.80</td>\n",
              "      <td>118.65</td>\n",
              "      <td>586100</td>\n",
              "      <td>694.98</td>\n",
              "    </tr>\n",
              "    <tr>\n",
              "      <th>...</th>\n",
              "      <td>...</td>\n",
              "      <td>...</td>\n",
              "      <td>...</td>\n",
              "      <td>...</td>\n",
              "      <td>...</td>\n",
              "      <td>...</td>\n",
              "      <td>...</td>\n",
              "      <td>...</td>\n",
              "    </tr>\n",
              "    <tr>\n",
              "      <th>4</th>\n",
              "      <td>2018-09-24</td>\n",
              "      <td>233.55</td>\n",
              "      <td>239.20</td>\n",
              "      <td>230.75</td>\n",
              "      <td>234.00</td>\n",
              "      <td>233.30</td>\n",
              "      <td>3423509</td>\n",
              "      <td>7999.55</td>\n",
              "    </tr>\n",
              "    <tr>\n",
              "      <th>3</th>\n",
              "      <td>2018-09-25</td>\n",
              "      <td>233.30</td>\n",
              "      <td>236.75</td>\n",
              "      <td>232.00</td>\n",
              "      <td>236.25</td>\n",
              "      <td>236.10</td>\n",
              "      <td>2349368</td>\n",
              "      <td>5503.90</td>\n",
              "    </tr>\n",
              "    <tr>\n",
              "      <th>2</th>\n",
              "      <td>2018-09-26</td>\n",
              "      <td>240.00</td>\n",
              "      <td>240.00</td>\n",
              "      <td>232.50</td>\n",
              "      <td>235.00</td>\n",
              "      <td>234.25</td>\n",
              "      <td>2240909</td>\n",
              "      <td>5248.60</td>\n",
              "    </tr>\n",
              "    <tr>\n",
              "      <th>1</th>\n",
              "      <td>2018-09-27</td>\n",
              "      <td>234.55</td>\n",
              "      <td>236.80</td>\n",
              "      <td>231.10</td>\n",
              "      <td>233.80</td>\n",
              "      <td>233.25</td>\n",
              "      <td>5082859</td>\n",
              "      <td>11859.95</td>\n",
              "    </tr>\n",
              "    <tr>\n",
              "      <th>0</th>\n",
              "      <td>2018-09-28</td>\n",
              "      <td>234.05</td>\n",
              "      <td>235.95</td>\n",
              "      <td>230.20</td>\n",
              "      <td>233.50</td>\n",
              "      <td>233.75</td>\n",
              "      <td>3069914</td>\n",
              "      <td>7162.35</td>\n",
              "    </tr>\n",
              "  </tbody>\n",
              "</table>\n",
              "<p>2035 rows × 8 columns</p>\n",
              "</div>\n",
              "      <button class=\"colab-df-convert\" onclick=\"convertToInteractive('df-beff334f-424f-4f27-bbd0-c4497ea2d3b3')\"\n",
              "              title=\"Convert this dataframe to an interactive table.\"\n",
              "              style=\"display:none;\">\n",
              "        \n",
              "  <svg xmlns=\"http://www.w3.org/2000/svg\" height=\"24px\"viewBox=\"0 0 24 24\"\n",
              "       width=\"24px\">\n",
              "    <path d=\"M0 0h24v24H0V0z\" fill=\"none\"/>\n",
              "    <path d=\"M18.56 5.44l.94 2.06.94-2.06 2.06-.94-2.06-.94-.94-2.06-.94 2.06-2.06.94zm-11 1L8.5 8.5l.94-2.06 2.06-.94-2.06-.94L8.5 2.5l-.94 2.06-2.06.94zm10 10l.94 2.06.94-2.06 2.06-.94-2.06-.94-.94-2.06-.94 2.06-2.06.94z\"/><path d=\"M17.41 7.96l-1.37-1.37c-.4-.4-.92-.59-1.43-.59-.52 0-1.04.2-1.43.59L10.3 9.45l-7.72 7.72c-.78.78-.78 2.05 0 2.83L4 21.41c.39.39.9.59 1.41.59.51 0 1.02-.2 1.41-.59l7.78-7.78 2.81-2.81c.8-.78.8-2.07 0-2.86zM5.41 20L4 18.59l7.72-7.72 1.47 1.35L5.41 20z\"/>\n",
              "  </svg>\n",
              "      </button>\n",
              "      \n",
              "  <style>\n",
              "    .colab-df-container {\n",
              "      display:flex;\n",
              "      flex-wrap:wrap;\n",
              "      gap: 12px;\n",
              "    }\n",
              "\n",
              "    .colab-df-convert {\n",
              "      background-color: #E8F0FE;\n",
              "      border: none;\n",
              "      border-radius: 50%;\n",
              "      cursor: pointer;\n",
              "      display: none;\n",
              "      fill: #1967D2;\n",
              "      height: 32px;\n",
              "      padding: 0 0 0 0;\n",
              "      width: 32px;\n",
              "    }\n",
              "\n",
              "    .colab-df-convert:hover {\n",
              "      background-color: #E2EBFA;\n",
              "      box-shadow: 0px 1px 2px rgba(60, 64, 67, 0.3), 0px 1px 3px 1px rgba(60, 64, 67, 0.15);\n",
              "      fill: #174EA6;\n",
              "    }\n",
              "\n",
              "    [theme=dark] .colab-df-convert {\n",
              "      background-color: #3B4455;\n",
              "      fill: #D2E3FC;\n",
              "    }\n",
              "\n",
              "    [theme=dark] .colab-df-convert:hover {\n",
              "      background-color: #434B5C;\n",
              "      box-shadow: 0px 1px 3px 1px rgba(0, 0, 0, 0.15);\n",
              "      filter: drop-shadow(0px 1px 2px rgba(0, 0, 0, 0.3));\n",
              "      fill: #FFFFFF;\n",
              "    }\n",
              "  </style>\n",
              "\n",
              "      <script>\n",
              "        const buttonEl =\n",
              "          document.querySelector('#df-beff334f-424f-4f27-bbd0-c4497ea2d3b3 button.colab-df-convert');\n",
              "        buttonEl.style.display =\n",
              "          google.colab.kernel.accessAllowed ? 'block' : 'none';\n",
              "\n",
              "        async function convertToInteractive(key) {\n",
              "          const element = document.querySelector('#df-beff334f-424f-4f27-bbd0-c4497ea2d3b3');\n",
              "          const dataTable =\n",
              "            await google.colab.kernel.invokeFunction('convertToInteractive',\n",
              "                                                     [key], {});\n",
              "          if (!dataTable) return;\n",
              "\n",
              "          const docLinkHtml = 'Like what you see? Visit the ' +\n",
              "            '<a target=\"_blank\" href=https://colab.research.google.com/notebooks/data_table.ipynb>data table notebook</a>'\n",
              "            + ' to learn more about interactive tables.';\n",
              "          element.innerHTML = '';\n",
              "          dataTable['output_type'] = 'display_data';\n",
              "          await google.colab.output.renderOutput(dataTable, element);\n",
              "          const docLink = document.createElement('div');\n",
              "          docLink.innerHTML = docLinkHtml;\n",
              "          element.appendChild(docLink);\n",
              "        }\n",
              "      </script>\n",
              "    </div>\n",
              "  </div>\n",
              "  "
            ]
          },
          "metadata": {},
          "execution_count": 4
        }
      ]
    },
    {
      "cell_type": "code",
      "source": [
        "stock.describe()"
      ],
      "metadata": {
        "colab": {
          "base_uri": "https://localhost:8080/",
          "height": 381
        },
        "id": "pNfZ26cM8XxV",
        "outputId": "a3741397-450c-4b65-e948-b50d186e266a"
      },
      "execution_count": null,
      "outputs": [
        {
          "output_type": "execute_result",
          "data": {
            "text/plain": [
              "              Open         High          Low         Last       Close  \\\n",
              "count  2035.000000  2035.000000  2035.000000  2035.000000  2035.00000   \n",
              "mean    149.713735   151.992826   147.293931   149.474251   149.45027   \n",
              "std      48.664509    49.413109    47.931958    48.732570    48.71204   \n",
              "min      81.100000    82.800000    80.000000    81.000000    80.95000   \n",
              "25%     120.025000   122.100000   118.300000   120.075000   120.05000   \n",
              "50%     141.500000   143.400000   139.600000   141.100000   141.25000   \n",
              "75%     157.175000   159.400000   155.150000   156.925000   156.90000   \n",
              "max     327.700000   328.750000   321.650000   325.950000   325.75000   \n",
              "\n",
              "       Total Trade Quantity  Turnover (Lacs)  \n",
              "count          2.035000e+03      2035.000000  \n",
              "mean           2.335681e+06      3899.980565  \n",
              "std            2.091778e+06      4570.767877  \n",
              "min            3.961000e+04        37.040000  \n",
              "25%            1.146444e+06      1427.460000  \n",
              "50%            1.783456e+06      2512.030000  \n",
              "75%            2.813594e+06      4539.015000  \n",
              "max            2.919102e+07     55755.080000  "
            ],
            "text/html": [
              "\n",
              "  <div id=\"df-40f07ca3-8ef3-45c3-bf72-8ebcfc435f0b\">\n",
              "    <div class=\"colab-df-container\">\n",
              "      <div>\n",
              "<style scoped>\n",
              "    .dataframe tbody tr th:only-of-type {\n",
              "        vertical-align: middle;\n",
              "    }\n",
              "\n",
              "    .dataframe tbody tr th {\n",
              "        vertical-align: top;\n",
              "    }\n",
              "\n",
              "    .dataframe thead th {\n",
              "        text-align: right;\n",
              "    }\n",
              "</style>\n",
              "<table border=\"1\" class=\"dataframe\">\n",
              "  <thead>\n",
              "    <tr style=\"text-align: right;\">\n",
              "      <th></th>\n",
              "      <th>Open</th>\n",
              "      <th>High</th>\n",
              "      <th>Low</th>\n",
              "      <th>Last</th>\n",
              "      <th>Close</th>\n",
              "      <th>Total Trade Quantity</th>\n",
              "      <th>Turnover (Lacs)</th>\n",
              "    </tr>\n",
              "  </thead>\n",
              "  <tbody>\n",
              "    <tr>\n",
              "      <th>count</th>\n",
              "      <td>2035.000000</td>\n",
              "      <td>2035.000000</td>\n",
              "      <td>2035.000000</td>\n",
              "      <td>2035.000000</td>\n",
              "      <td>2035.00000</td>\n",
              "      <td>2.035000e+03</td>\n",
              "      <td>2035.000000</td>\n",
              "    </tr>\n",
              "    <tr>\n",
              "      <th>mean</th>\n",
              "      <td>149.713735</td>\n",
              "      <td>151.992826</td>\n",
              "      <td>147.293931</td>\n",
              "      <td>149.474251</td>\n",
              "      <td>149.45027</td>\n",
              "      <td>2.335681e+06</td>\n",
              "      <td>3899.980565</td>\n",
              "    </tr>\n",
              "    <tr>\n",
              "      <th>std</th>\n",
              "      <td>48.664509</td>\n",
              "      <td>49.413109</td>\n",
              "      <td>47.931958</td>\n",
              "      <td>48.732570</td>\n",
              "      <td>48.71204</td>\n",
              "      <td>2.091778e+06</td>\n",
              "      <td>4570.767877</td>\n",
              "    </tr>\n",
              "    <tr>\n",
              "      <th>min</th>\n",
              "      <td>81.100000</td>\n",
              "      <td>82.800000</td>\n",
              "      <td>80.000000</td>\n",
              "      <td>81.000000</td>\n",
              "      <td>80.95000</td>\n",
              "      <td>3.961000e+04</td>\n",
              "      <td>37.040000</td>\n",
              "    </tr>\n",
              "    <tr>\n",
              "      <th>25%</th>\n",
              "      <td>120.025000</td>\n",
              "      <td>122.100000</td>\n",
              "      <td>118.300000</td>\n",
              "      <td>120.075000</td>\n",
              "      <td>120.05000</td>\n",
              "      <td>1.146444e+06</td>\n",
              "      <td>1427.460000</td>\n",
              "    </tr>\n",
              "    <tr>\n",
              "      <th>50%</th>\n",
              "      <td>141.500000</td>\n",
              "      <td>143.400000</td>\n",
              "      <td>139.600000</td>\n",
              "      <td>141.100000</td>\n",
              "      <td>141.25000</td>\n",
              "      <td>1.783456e+06</td>\n",
              "      <td>2512.030000</td>\n",
              "    </tr>\n",
              "    <tr>\n",
              "      <th>75%</th>\n",
              "      <td>157.175000</td>\n",
              "      <td>159.400000</td>\n",
              "      <td>155.150000</td>\n",
              "      <td>156.925000</td>\n",
              "      <td>156.90000</td>\n",
              "      <td>2.813594e+06</td>\n",
              "      <td>4539.015000</td>\n",
              "    </tr>\n",
              "    <tr>\n",
              "      <th>max</th>\n",
              "      <td>327.700000</td>\n",
              "      <td>328.750000</td>\n",
              "      <td>321.650000</td>\n",
              "      <td>325.950000</td>\n",
              "      <td>325.75000</td>\n",
              "      <td>2.919102e+07</td>\n",
              "      <td>55755.080000</td>\n",
              "    </tr>\n",
              "  </tbody>\n",
              "</table>\n",
              "</div>\n",
              "      <button class=\"colab-df-convert\" onclick=\"convertToInteractive('df-40f07ca3-8ef3-45c3-bf72-8ebcfc435f0b')\"\n",
              "              title=\"Convert this dataframe to an interactive table.\"\n",
              "              style=\"display:none;\">\n",
              "        \n",
              "  <svg xmlns=\"http://www.w3.org/2000/svg\" height=\"24px\"viewBox=\"0 0 24 24\"\n",
              "       width=\"24px\">\n",
              "    <path d=\"M0 0h24v24H0V0z\" fill=\"none\"/>\n",
              "    <path d=\"M18.56 5.44l.94 2.06.94-2.06 2.06-.94-2.06-.94-.94-2.06-.94 2.06-2.06.94zm-11 1L8.5 8.5l.94-2.06 2.06-.94-2.06-.94L8.5 2.5l-.94 2.06-2.06.94zm10 10l.94 2.06.94-2.06 2.06-.94-2.06-.94-.94-2.06-.94 2.06-2.06.94z\"/><path d=\"M17.41 7.96l-1.37-1.37c-.4-.4-.92-.59-1.43-.59-.52 0-1.04.2-1.43.59L10.3 9.45l-7.72 7.72c-.78.78-.78 2.05 0 2.83L4 21.41c.39.39.9.59 1.41.59.51 0 1.02-.2 1.41-.59l7.78-7.78 2.81-2.81c.8-.78.8-2.07 0-2.86zM5.41 20L4 18.59l7.72-7.72 1.47 1.35L5.41 20z\"/>\n",
              "  </svg>\n",
              "      </button>\n",
              "      \n",
              "  <style>\n",
              "    .colab-df-container {\n",
              "      display:flex;\n",
              "      flex-wrap:wrap;\n",
              "      gap: 12px;\n",
              "    }\n",
              "\n",
              "    .colab-df-convert {\n",
              "      background-color: #E8F0FE;\n",
              "      border: none;\n",
              "      border-radius: 50%;\n",
              "      cursor: pointer;\n",
              "      display: none;\n",
              "      fill: #1967D2;\n",
              "      height: 32px;\n",
              "      padding: 0 0 0 0;\n",
              "      width: 32px;\n",
              "    }\n",
              "\n",
              "    .colab-df-convert:hover {\n",
              "      background-color: #E2EBFA;\n",
              "      box-shadow: 0px 1px 2px rgba(60, 64, 67, 0.3), 0px 1px 3px 1px rgba(60, 64, 67, 0.15);\n",
              "      fill: #174EA6;\n",
              "    }\n",
              "\n",
              "    [theme=dark] .colab-df-convert {\n",
              "      background-color: #3B4455;\n",
              "      fill: #D2E3FC;\n",
              "    }\n",
              "\n",
              "    [theme=dark] .colab-df-convert:hover {\n",
              "      background-color: #434B5C;\n",
              "      box-shadow: 0px 1px 3px 1px rgba(0, 0, 0, 0.15);\n",
              "      filter: drop-shadow(0px 1px 2px rgba(0, 0, 0, 0.3));\n",
              "      fill: #FFFFFF;\n",
              "    }\n",
              "  </style>\n",
              "\n",
              "      <script>\n",
              "        const buttonEl =\n",
              "          document.querySelector('#df-40f07ca3-8ef3-45c3-bf72-8ebcfc435f0b button.colab-df-convert');\n",
              "        buttonEl.style.display =\n",
              "          google.colab.kernel.accessAllowed ? 'block' : 'none';\n",
              "\n",
              "        async function convertToInteractive(key) {\n",
              "          const element = document.querySelector('#df-40f07ca3-8ef3-45c3-bf72-8ebcfc435f0b');\n",
              "          const dataTable =\n",
              "            await google.colab.kernel.invokeFunction('convertToInteractive',\n",
              "                                                     [key], {});\n",
              "          if (!dataTable) return;\n",
              "\n",
              "          const docLinkHtml = 'Like what you see? Visit the ' +\n",
              "            '<a target=\"_blank\" href=https://colab.research.google.com/notebooks/data_table.ipynb>data table notebook</a>'\n",
              "            + ' to learn more about interactive tables.';\n",
              "          element.innerHTML = '';\n",
              "          dataTable['output_type'] = 'display_data';\n",
              "          await google.colab.output.renderOutput(dataTable, element);\n",
              "          const docLink = document.createElement('div');\n",
              "          docLink.innerHTML = docLinkHtml;\n",
              "          element.appendChild(docLink);\n",
              "        }\n",
              "      </script>\n",
              "    </div>\n",
              "  </div>\n",
              "  "
            ]
          },
          "metadata": {},
          "execution_count": 5
        }
      ]
    },
    {
      "cell_type": "markdown",
      "source": [
        "**Heatmap Generation**"
      ],
      "metadata": {
        "id": "giLouad58ZDZ"
      }
    },
    {
      "cell_type": "code",
      "source": [
        "import matplotlib.pyplot as plt\n",
        "import seaborn as sns\n",
        "sns.heatmap(stock.corr(), annot=True)\n",
        "plt.show()"
      ],
      "metadata": {
        "colab": {
          "base_uri": "https://localhost:8080/",
          "height": 359
        },
        "id": "5vBhwrNN8c5B",
        "outputId": "70b4095f-20ac-4a6d-e556-b01b763d1ec8"
      },
      "execution_count": null,
      "outputs": [
        {
          "output_type": "display_data",
          "data": {
            "text/plain": [
              "<Figure size 432x288 with 2 Axes>"
            ],
            "image/png": "[encoded data removed]"
          },
          "metadata": {
            "needs_background": "light"
          }
        }
      ]
    },
    {
      "cell_type": "code",
      "source": [
        "stock_high=stock.reset_index()['High']\n",
        "stock_high"
      ],
      "metadata": {
        "colab": {
          "base_uri": "https://localhost:8080/"
        },
        "id": "BY-wsCsF8hhH",
        "outputId": "927e4eab-ea1a-48b7-ec6e-45dccb4f3748"
      },
      "execution_count": null,
      "outputs": [
        {
          "output_type": "execute_result",
          "data": {
            "text/plain": [
              "0       123.00\n",
              "1       122.00\n",
              "2       121.95\n",
              "3       121.00\n",
              "4       119.50\n",
              "         ...  \n",
              "2030    239.20\n",
              "2031    236.75\n",
              "2032    240.00\n",
              "2033    236.80\n",
              "2034    235.95\n",
              "Name: High, Length: 2035, dtype: float64"
            ]
          },
          "metadata": {},
          "execution_count": 7
        }
      ]
    },
    {
      "cell_type": "code",
      "source": [
        "plt.plot(stock_high)\n",
        "plt.show()"
      ],
      "metadata": {
        "colab": {
          "base_uri": "https://localhost:8080/",
          "height": 265
        },
        "id": "NRL0dQIj8khI",
        "outputId": "326e12a7-d9f2-4253-9802-ebdeefd1b28a"
      },
      "execution_count": null,
      "outputs": [
        {
          "output_type": "display_data",
          "data": {
            "text/plain": [
              "<Figure size 432x288 with 1 Axes>"
            ],
            "image/png": "[encoded data removed]"
          },
          "metadata": {
            "needs_background": "light"
          }
        }
      ]
    },
    {
      "cell_type": "markdown",
      "source": [
        "**Data Preprocessing**"
      ],
      "metadata": {
        "id": "bug05bFP8qX2"
      }
    },
    {
      "cell_type": "code",
      "source": [
        "from sklearn.preprocessing import MinMaxScaler\n",
        "scaler=MinMaxScaler()\n",
        "stock_high=scaler.fit_transform(stock_high.values.reshape(-1,1))\n",
        "stock_high"
      ],
      "metadata": {
        "colab": {
          "base_uri": "https://localhost:8080/"
        },
        "id": "RStb9mNe8wjD",
        "outputId": "6cd0f47a-4be9-4b36-d6b2-fed69d490534"
      },
      "execution_count": null,
      "outputs": [
        {
          "output_type": "execute_result",
          "data": {
            "text/plain": [
              "array([[0.16344786],\n",
              "       [0.15938199],\n",
              "       [0.15917869],\n",
              "       ...,\n",
              "       [0.6391543 ],\n",
              "       [0.62614353],\n",
              "       [0.62268754]])"
            ]
          },
          "metadata": {},
          "execution_count": 9
        }
      ]
    },
    {
      "cell_type": "markdown",
      "source": [
        "**Splitting the Training and Testing Data**"
      ],
      "metadata": {
        "id": "7zgX7Z3T8z6i"
      }
    },
    {
      "cell_type": "code",
      "source": [
        "train_size=int(len(stock_high)*0.8)\n",
        "test_size=len(stock_high)-train_size\n",
        "train_size,test_size"
      ],
      "metadata": {
        "colab": {
          "base_uri": "https://localhost:8080/"
        },
        "id": "rUXvoPVv84Wu",
        "outputId": "44de169f-256e-468b-abcb-bdafb9015607"
      },
      "execution_count": null,
      "outputs": [
        {
          "output_type": "execute_result",
          "data": {
            "text/plain": [
              "(1628, 407)"
            ]
          },
          "metadata": {},
          "execution_count": 10
        }
      ]
    },
    {
      "cell_type": "code",
      "source": [
        "train_data,test_data=stock_high[:train_size],stock_high[train_size::1]\n",
        "train_data.shape"
      ],
      "metadata": {
        "colab": {
          "base_uri": "https://localhost:8080/"
        },
        "id": "gHCvDgbU88IP",
        "outputId": "05bc9fea-5f4f-4cb7-eca6-0b9d8d9c4841"
      },
      "execution_count": null,
      "outputs": [
        {
          "output_type": "execute_result",
          "data": {
            "text/plain": [
              "(1628, 1)"
            ]
          },
          "metadata": {},
          "execution_count": 11
        }
      ]
    },
    {
      "cell_type": "code",
      "source": [
        "# Here time step=100 indicates that we are looking at previous 100 values for predicting 101th value\n",
        "def create_data(data,time_step):\n",
        "  X_data,Y_data=[],[]\n",
        "  for i in range(len(data)-time_step-1):\n",
        "    X_data.append(data[i:i+time_step,0])\n",
        "    Y_data.append(data[i+time_step,0])\n",
        "  return np.array(X_data),np.array(Y_data)"
      ],
      "metadata": {
        "id": "d85lhaBn8-V0"
      },
      "execution_count": null,
      "outputs": []
    },
    {
      "cell_type": "code",
      "source": [
        "time_step=100\n",
        "X_train,Y_train=create_data(train_data,time_step)\n",
        "X_test,Y_test=create_data(test_data,time_step)"
      ],
      "metadata": {
        "id": "xaKsohb_9CBb"
      },
      "execution_count": null,
      "outputs": []
    },
    {
      "cell_type": "code",
      "source": [
        "# Make the data in to 3D data because, it is an LSTM requirement\n",
        "X_train=X_train.reshape(X_train.shape[0],X_train.shape[1],1)\n",
        "X_test=X_test.reshape(X_test.shape[0],X_test.shape[1],1)\n",
        "X_train.shape,Y_train.shape"
      ],
      "metadata": {
        "colab": {
          "base_uri": "https://localhost:8080/"
        },
        "id": "jB2uY_NZ9GqG",
        "outputId": "fc03ce5c-527c-44df-a1aa-9663810c1a6e"
      },
      "execution_count": null,
      "outputs": [
        {
          "output_type": "execute_result",
          "data": {
            "text/plain": [
              "((1527, 100, 1), (1527,))"
            ]
          },
          "metadata": {},
          "execution_count": 15
        }
      ]
    },
    {
      "cell_type": "markdown",
      "source": [
        "**LSTM Model Creation**"
      ],
      "metadata": {
        "id": "2LxheNX49LRl"
      }
    },
    {
      "cell_type": "code",
      "source": [
        "import tensorflow as tf\n",
        "from tensorflow.python.keras.models import Sequential\n",
        "from tensorflow.python.keras.layers import Dense,LSTM\n",
        "model=Sequential()\n",
        "model.add(LSTM(50, return_sequences = True,input_shape=(100,1)))\n",
        "model.add(LSTM(50,return_sequences= True))\n",
        "model.add(LSTM(50))\n",
        "model.add(Dense(1))\n",
        "model.compile(loss='mean_squared_error', optimizer='adam')\n",
        "model.summary()"
      ],
      "metadata": {
        "colab": {
          "base_uri": "https://localhost:8080/"
        },
        "id": "uqTmR--c9Syh",
        "outputId": "e459b6a4-1460-469a-c60b-3c792725ef92"
      },
      "execution_count": null,
      "outputs": [
        {
          "output_type": "stream",
          "name": "stdout",
          "text": [
            "Model: \"sequential\"\n",
            "_________________________________________________________________\n",
            "Layer (type)                 Output Shape              Param #   \n",
            "=================================================================\n",
            "lstm (LSTM)                  (None, 100, 50)           10400     \n",
            "_________________________________________________________________\n",
            "lstm_1 (LSTM)                (None, 100, 50)           20200     \n",
            "_________________________________________________________________\n",
            "lstm_2 (LSTM)                (None, 50)                20200     \n",
            "_________________________________________________________________\n",
            "dense (Dense)                (None, 1)                 51        \n",
            "=================================================================\n",
            "Total params: 50,851\n",
            "Trainable params: 50,851\n",
            "Non-trainable params: 0\n",
            "_________________________________________________________________\n"
          ]
        }
      ]
    },
    {
      "cell_type": "code",
      "source": [
        "model.fit(X_train, Y_train, validation_data= (X_test, Y_test),epochs=100,batch_size=64,verbose=True)"
      ],
      "metadata": {
        "colab": {
          "base_uri": "https://localhost:8080/"
        },
        "id": "sxuQ7JvW9c1-",
        "outputId": "1e1c7861-f5ba-4a9f-a6c9-4eed6e4641e3"
      },
      "execution_count": null,
      "outputs": [
        {
          "output_type": "stream",
          "name": "stdout",
          "text": [
            "Epoch 1/100\n",
            "24/24 [==============================] - 30s 854ms/step - loss: 0.0079 - val_loss: 0.0258\n",
            "Epoch 2/100\n",
            "24/24 [==============================] - 19s 827ms/step - loss: 0.0015 - val_loss: 0.0090\n",
            "Epoch 3/100\n",
            "24/24 [==============================] - 19s 772ms/step - loss: 8.8917e-04 - val_loss: 0.0058\n",
            "Epoch 4/100\n",
            "24/24 [==============================] - 26s 1s/step - loss: 8.1370e-04 - val_loss: 0.0042\n",
            "Epoch 5/100\n",
            "24/24 [==============================] - 23s 922ms/step - loss: 7.8903e-04 - val_loss: 0.0070\n",
            "Epoch 6/100\n",
            "24/24 [==============================] - 12s 507ms/step - loss: 7.9113e-04 - val_loss: 0.0067\n",
            "Epoch 7/100\n",
            "24/24 [==============================] - 16s 697ms/step - loss: 7.3640e-04 - val_loss: 0.0049\n",
            "Epoch 8/100\n",
            "24/24 [==============================] - 22s 956ms/step - loss: 7.2182e-04 - val_loss: 0.0037\n",
            "Epoch 9/100\n",
            "24/24 [==============================] - 15s 632ms/step - loss: 6.6409e-04 - val_loss: 0.0087\n",
            "Epoch 10/100\n",
            "24/24 [==============================] - 12s 499ms/step - loss: 6.5104e-04 - val_loss: 0.0031\n",
            "Epoch 11/100\n",
            "24/24 [==============================] - 12s 493ms/step - loss: 6.0029e-04 - val_loss: 0.0050\n",
            "Epoch 12/100\n",
            "24/24 [==============================] - 12s 497ms/step - loss: 5.6416e-04 - val_loss: 0.0077\n",
            "Epoch 13/100\n",
            "24/24 [==============================] - 11s 478ms/step - loss: 5.4970e-04 - val_loss: 0.0075\n",
            "Epoch 14/100\n",
            "24/24 [==============================] - 11s 440ms/step - loss: 5.8083e-04 - val_loss: 0.0038\n",
            "Epoch 15/100\n",
            "24/24 [==============================] - 13s 555ms/step - loss: 5.3726e-04 - val_loss: 0.0028\n",
            "Epoch 16/100\n",
            "24/24 [==============================] - 12s 478ms/step - loss: 5.5967e-04 - val_loss: 0.0058\n",
            "Epoch 17/100\n",
            "24/24 [==============================] - 13s 550ms/step - loss: 4.8265e-04 - val_loss: 0.0053\n",
            "Epoch 18/100\n",
            "24/24 [==============================] - 13s 521ms/step - loss: 4.6098e-04 - val_loss: 0.0074\n",
            "Epoch 19/100\n",
            "24/24 [==============================] - 12s 495ms/step - loss: 4.4943e-04 - val_loss: 0.0077\n",
            "Epoch 20/100\n",
            "24/24 [==============================] - 12s 485ms/step - loss: 4.3485e-04 - val_loss: 0.0069\n",
            "Epoch 21/100\n",
            "24/24 [==============================] - 13s 561ms/step - loss: 4.5204e-04 - val_loss: 0.0070\n",
            "Epoch 22/100\n",
            "24/24 [==============================] - 12s 504ms/step - loss: 4.0996e-04 - val_loss: 0.0070\n",
            "Epoch 23/100\n",
            "24/24 [==============================] - 12s 500ms/step - loss: 3.8955e-04 - val_loss: 0.0074\n",
            "Epoch 24/100\n",
            "24/24 [==============================] - 12s 482ms/step - loss: 3.8524e-04 - val_loss: 0.0103\n",
            "Epoch 25/100\n",
            "24/24 [==============================] - 12s 495ms/step - loss: 3.7969e-04 - val_loss: 0.0035\n",
            "Epoch 26/100\n",
            "24/24 [==============================] - 12s 484ms/step - loss: 3.6469e-04 - val_loss: 0.0048\n",
            "Epoch 27/100\n",
            "24/24 [==============================] - 11s 445ms/step - loss: 3.6065e-04 - val_loss: 0.0048\n",
            "Epoch 28/100\n",
            "24/24 [==============================] - 13s 513ms/step - loss: 3.4302e-04 - val_loss: 0.0041\n",
            "Epoch 29/100\n",
            "24/24 [==============================] - 12s 475ms/step - loss: 3.3290e-04 - val_loss: 0.0026\n",
            "Epoch 30/100\n",
            "24/24 [==============================] - 12s 503ms/step - loss: 3.2688e-04 - val_loss: 0.0049\n",
            "Epoch 31/100\n",
            "24/24 [==============================] - 11s 480ms/step - loss: 3.0819e-04 - val_loss: 0.0027\n",
            "Epoch 32/100\n",
            "24/24 [==============================] - 12s 491ms/step - loss: 3.0158e-04 - val_loss: 0.0037\n",
            "Epoch 33/100\n",
            "24/24 [==============================] - 12s 492ms/step - loss: 2.9975e-04 - val_loss: 0.0016\n",
            "Epoch 34/100\n",
            "24/24 [==============================] - 13s 561ms/step - loss: 2.9852e-04 - val_loss: 0.0027\n",
            "Epoch 35/100\n",
            "24/24 [==============================] - 12s 483ms/step - loss: 2.9133e-04 - val_loss: 0.0017\n",
            "Epoch 36/100\n",
            "24/24 [==============================] - 11s 445ms/step - loss: 2.7716e-04 - val_loss: 0.0023\n",
            "Epoch 37/100\n",
            "24/24 [==============================] - 11s 458ms/step - loss: 2.5491e-04 - val_loss: 0.0033\n",
            "Epoch 38/100\n",
            "24/24 [==============================] - 12s 500ms/step - loss: 2.6684e-04 - val_loss: 0.0018\n",
            "Epoch 39/100\n",
            "24/24 [==============================] - 12s 486ms/step - loss: 2.4863e-04 - val_loss: 0.0031\n",
            "Epoch 40/100\n",
            "24/24 [==============================] - 12s 484ms/step - loss: 2.3611e-04 - val_loss: 0.0020\n",
            "Epoch 41/100\n",
            "24/24 [==============================] - 13s 544ms/step - loss: 2.3343e-04 - val_loss: 0.0030\n",
            "Epoch 42/100\n",
            "24/24 [==============================] - 12s 488ms/step - loss: 2.4104e-04 - val_loss: 0.0012\n",
            "Epoch 43/100\n",
            "24/24 [==============================] - 12s 482ms/step - loss: 2.3635e-04 - val_loss: 0.0017\n",
            "Epoch 44/100\n",
            "24/24 [==============================] - 12s 493ms/step - loss: 2.2341e-04 - val_loss: 0.0024\n",
            "Epoch 45/100\n",
            "24/24 [==============================] - 12s 498ms/step - loss: 2.1033e-04 - val_loss: 0.0036\n",
            "Epoch 46/100\n",
            "24/24 [==============================] - 11s 472ms/step - loss: 2.1890e-04 - val_loss: 0.0014\n",
            "Epoch 47/100\n",
            "24/24 [==============================] - 13s 544ms/step - loss: 2.0876e-04 - val_loss: 0.0015\n",
            "Epoch 48/100\n",
            "24/24 [==============================] - 11s 439ms/step - loss: 1.9300e-04 - val_loss: 0.0032\n",
            "Epoch 49/100\n",
            "24/24 [==============================] - 12s 480ms/step - loss: 2.0306e-04 - val_loss: 0.0018\n",
            "Epoch 50/100\n",
            "24/24 [==============================] - 12s 495ms/step - loss: 1.9818e-04 - val_loss: 0.0016\n",
            "Epoch 51/100\n",
            "24/24 [==============================] - 12s 497ms/step - loss: 1.7911e-04 - val_loss: 0.0028\n",
            "Epoch 52/100\n",
            "24/24 [==============================] - 12s 498ms/step - loss: 1.7295e-04 - val_loss: 0.0018\n",
            "Epoch 53/100\n",
            "24/24 [==============================] - 13s 534ms/step - loss: 1.8860e-04 - val_loss: 0.0029\n",
            "Epoch 54/100\n",
            "24/24 [==============================] - 12s 503ms/step - loss: 1.9172e-04 - val_loss: 0.0019\n",
            "Epoch 55/100\n",
            "24/24 [==============================] - 12s 505ms/step - loss: 1.7562e-04 - val_loss: 0.0017\n",
            "Epoch 56/100\n",
            "24/24 [==============================] - 12s 499ms/step - loss: 1.6225e-04 - val_loss: 0.0023\n",
            "Epoch 57/100\n",
            "24/24 [==============================] - 12s 493ms/step - loss: 1.5336e-04 - val_loss: 0.0023\n",
            "Epoch 58/100\n",
            "24/24 [==============================] - 12s 506ms/step - loss: 1.6006e-04 - val_loss: 0.0038\n",
            "Epoch 59/100\n",
            "24/24 [==============================] - 11s 482ms/step - loss: 1.7598e-04 - val_loss: 0.0036\n",
            "Epoch 60/100\n",
            "24/24 [==============================] - 14s 571ms/step - loss: 1.6307e-04 - val_loss: 0.0025\n",
            "Epoch 61/100\n",
            "24/24 [==============================] - 11s 452ms/step - loss: 1.4728e-04 - val_loss: 0.0024\n",
            "Epoch 62/100\n",
            "24/24 [==============================] - 11s 462ms/step - loss: 1.4895e-04 - val_loss: 0.0012\n",
            "Epoch 63/100\n",
            "24/24 [==============================] - 12s 492ms/step - loss: 1.3463e-04 - val_loss: 0.0015\n",
            "Epoch 64/100\n",
            "24/24 [==============================] - 12s 501ms/step - loss: 1.3422e-04 - val_loss: 0.0026\n",
            "Epoch 65/100\n",
            "24/24 [==============================] - 12s 498ms/step - loss: 1.2785e-04 - val_loss: 0.0021\n",
            "Epoch 66/100\n",
            "24/24 [==============================] - 14s 572ms/step - loss: 1.2941e-04 - val_loss: 0.0020\n",
            "Epoch 67/100\n",
            "24/24 [==============================] - 12s 488ms/step - loss: 1.3370e-04 - val_loss: 0.0011\n",
            "Epoch 68/100\n",
            "24/24 [==============================] - 12s 485ms/step - loss: 1.3817e-04 - val_loss: 0.0018\n",
            "Epoch 69/100\n",
            "24/24 [==============================] - 12s 510ms/step - loss: 1.3443e-04 - val_loss: 0.0014\n",
            "Epoch 70/100\n",
            "24/24 [==============================] - 11s 447ms/step - loss: 1.4263e-04 - val_loss: 0.0026\n",
            "Epoch 71/100\n",
            "24/24 [==============================] - 11s 465ms/step - loss: 1.4264e-04 - val_loss: 0.0023\n",
            "Epoch 72/100\n",
            "24/24 [==============================] - 13s 564ms/step - loss: 1.1864e-04 - val_loss: 0.0016\n",
            "Epoch 73/100\n",
            "24/24 [==============================] - 12s 503ms/step - loss: 1.2191e-04 - val_loss: 0.0037\n",
            "Epoch 74/100\n",
            "24/24 [==============================] - 12s 490ms/step - loss: 1.1817e-04 - val_loss: 0.0013\n",
            "Epoch 75/100\n",
            "24/24 [==============================] - 11s 480ms/step - loss: 1.4098e-04 - val_loss: 0.0017\n",
            "Epoch 76/100\n",
            "24/24 [==============================] - 12s 482ms/step - loss: 1.3066e-04 - val_loss: 0.0012\n",
            "Epoch 77/100\n",
            "24/24 [==============================] - 12s 487ms/step - loss: 1.3638e-04 - val_loss: 0.0024\n",
            "Epoch 78/100\n",
            "24/24 [==============================] - 12s 494ms/step - loss: 1.2522e-04 - val_loss: 9.9741e-04\n",
            "Epoch 79/100\n",
            "24/24 [==============================] - 13s 525ms/step - loss: 1.3212e-04 - val_loss: 0.0018\n",
            "Epoch 80/100\n",
            "24/24 [==============================] - 12s 499ms/step - loss: 1.2650e-04 - val_loss: 0.0016\n",
            "Epoch 81/100\n",
            "24/24 [==============================] - 11s 447ms/step - loss: 1.1942e-04 - val_loss: 0.0017\n",
            "Epoch 82/100\n",
            "24/24 [==============================] - 11s 447ms/step - loss: 1.1316e-04 - val_loss: 0.0012\n",
            "Epoch 83/100\n",
            "24/24 [==============================] - 12s 491ms/step - loss: 1.1553e-04 - val_loss: 0.0014\n",
            "Epoch 84/100\n",
            "24/24 [==============================] - 12s 501ms/step - loss: 1.1148e-04 - val_loss: 0.0015\n",
            "Epoch 85/100\n",
            "24/24 [==============================] - 13s 555ms/step - loss: 1.2421e-04 - val_loss: 0.0016\n",
            "Epoch 86/100\n",
            "24/24 [==============================] - 12s 485ms/step - loss: 1.2189e-04 - val_loss: 0.0019\n",
            "Epoch 87/100\n",
            "24/24 [==============================] - 12s 493ms/step - loss: 1.1901e-04 - val_loss: 0.0012\n",
            "Epoch 88/100\n",
            "24/24 [==============================] - 12s 492ms/step - loss: 1.1090e-04 - val_loss: 0.0013\n",
            "Epoch 89/100\n",
            "24/24 [==============================] - 11s 478ms/step - loss: 1.1042e-04 - val_loss: 0.0011\n",
            "Epoch 90/100\n",
            "24/24 [==============================] - 12s 490ms/step - loss: 1.2116e-04 - val_loss: 9.1869e-04\n",
            "Epoch 91/100\n",
            "24/24 [==============================] - 13s 553ms/step - loss: 1.1383e-04 - val_loss: 8.1465e-04\n",
            "Epoch 92/100\n",
            "24/24 [==============================] - 10s 425ms/step - loss: 1.2222e-04 - val_loss: 0.0022\n",
            "Epoch 93/100\n",
            "24/24 [==============================] - 11s 467ms/step - loss: 1.1935e-04 - val_loss: 0.0020\n",
            "Epoch 94/100\n",
            "24/24 [==============================] - 12s 494ms/step - loss: 1.2411e-04 - val_loss: 0.0013\n",
            "Epoch 95/100\n",
            "24/24 [==============================] - 12s 485ms/step - loss: 1.1543e-04 - val_loss: 0.0011\n",
            "Epoch 96/100\n",
            "24/24 [==============================] - 12s 488ms/step - loss: 1.1566e-04 - val_loss: 0.0012\n",
            "Epoch 97/100\n",
            "24/24 [==============================] - 11s 481ms/step - loss: 1.2188e-04 - val_loss: 0.0037\n",
            "Epoch 98/100\n",
            "24/24 [==============================] - 13s 546ms/step - loss: 1.2733e-04 - val_loss: 0.0022\n",
            "Epoch 99/100\n",
            "24/24 [==============================] - 11s 480ms/step - loss: 1.1570e-04 - val_loss: 0.0015\n",
            "Epoch 100/100\n",
            "24/24 [==============================] - 12s 488ms/step - loss: 1.2896e-04 - val_loss: 0.0017\n"
          ]
        },
        {
          "output_type": "execute_result",
          "data": {
            "text/plain": [
              "<tensorflow.python.keras.callbacks.History at 0x7f2197053f10>"
            ]
          },
          "metadata": {},
          "execution_count": 17
        }
      ]
    },
    {
      "cell_type": "markdown",
      "source": [
        "**Model Prediction**"
      ],
      "metadata": {
        "id": "65o_K5Y99hdU"
      }
    },
    {
      "cell_type": "code",
      "source": [
        "train_prediction=model.predict(X_train)\n",
        "test_prediction=model.predict(X_test)"
      ],
      "metadata": {
        "id": "hRdQG_TH9lDN"
      },
      "execution_count": null,
      "outputs": []
    },
    {
      "cell_type": "code",
      "source": [
        "from math import sqrt\n",
        "from sklearn.metrics import mean_squared_error\n",
        "train_error=sqrt(mean_squared_error(Y_train,train_prediction))\n",
        "test_error=sqrt(mean_squared_error(Y_test,test_prediction))\n",
        "train_error, test_error"
      ],
      "metadata": {
        "colab": {
          "base_uri": "https://localhost:8080/"
        },
        "id": "SnLVFAVM9nm9",
        "outputId": "6990626d-3fda-4744-8242-37a8bdea1cc1"
      },
      "execution_count": null,
      "outputs": [
        {
          "output_type": "execute_result",
          "data": {
            "text/plain": [
              "(0.010397391644256637, 0.041081223686438864)"
            ]
          },
          "metadata": {},
          "execution_count": 19
        }
      ]
    },
    {
      "cell_type": "code",
      "source": [
        "train_prediction=scaler.inverse_transform(train_prediction)\n",
        "test_prediction=scaler.inverse_transform(test_prediction)"
      ],
      "metadata": {
        "id": "deRYAQgc9qTk"
      },
      "execution_count": null,
      "outputs": []
    },
    {
      "cell_type": "code",
      "source": [
        "steps_back=100\n",
        "train_predictplot=np.empty_like(stock_high)\n",
        "train_predictplot[:,:]=np.nan\n",
        "train_predictplot[steps_back:len(train_prediction)+steps_back,:]=train_prediction\n",
        "\n",
        "\n",
        "test_predictplot=np.empty_like(stock_high)\n",
        "test_predictplot[:,:]=np.nan\n",
        "test_predictplot[len(train_prediction)+(steps_back *2)+1 :len(stock_high)-1, :]=test_prediction"
      ],
      "metadata": {
        "id": "5akTaQwS91I9"
      },
      "execution_count": null,
      "outputs": []
    },
    {
      "cell_type": "markdown",
      "source": [
        "**Data Visualization**"
      ],
      "metadata": {
        "id": "xYU2j2jI-A2b"
      }
    },
    {
      "cell_type": "code",
      "source": [
        "plt.plot(scaler.inverse_transform(stock_high))\n",
        "plt.plot(train_predictplot)\n",
        "plt.plot(test_predictplot)\n",
        "\n",
        "plt.legend(labels =['Total data','Trained data','Predicted data'])\n",
        "plt.show()"
      ],
      "metadata": {
        "colab": {
          "base_uri": "https://localhost:8080/",
          "height": 265
        },
        "id": "cC-vJJ-Z-E2y",
        "outputId": "df40a255-0510-43d7-82c5-13e129b53e0a"
      },
      "execution_count": null,
      "outputs": [
        {
          "output_type": "display_data",
          "data": {
            "text/plain": [
              "<Figure size 432x288 with 1 Axes>"
            ],
            "image/png": "[encoded data removed]"
          },
          "metadata": {
            "needs_background": "light"
          }
        }
      ]
    }
  ]
}