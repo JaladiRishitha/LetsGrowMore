{
  "nbformat": 4,
  "nbformat_minor": 0,
  "metadata": {
    "colab": {
      "provenance": [],
      "authorship_tag": "ABX9TyPDH7hAZKyupXLAfVOaeNos",
      "include_colab_link": true
    },
    "kernelspec": {
      "name": "python3",
      "display_name": "Python 3"
    },
    "language_info": {
      "name": "python"
    }
  },
  "cells": [
    {
      "cell_type": "markdown",
      "metadata": {
        "id": "view-in-github",
        "colab_type": "text"
      },
      "source": [
        "<a href=\"https://colab.research.google.com/github/JaladiRishitha/LetsGrowMore/blob/main/Iris_flowers_Classification.ipynb\" target=\"_parent\"><img src=\"https://colab.research.google.com/assets/colab-badge.svg\" alt=\"Open In Colab\"/></a>"
      ]
    },
    {
      "cell_type": "markdown",
      "source": [
        "**Loading the dataset**"
      ],
      "metadata": {
        "id": "8KFx2wxR_DLZ"
      }
    },
    {
      "cell_type": "code",
      "execution_count": null,
      "metadata": {
        "colab": {
          "base_uri": "https://localhost:8080/"
        },
        "id": "My72ASqY-Yj5",
        "outputId": "8bff3e98-60e4-41f9-82c9-ced3d485da43"
      },
      "outputs": [
        {
          "output_type": "execute_result",
          "data": {
            "text/plain": [
              "array(['Iris-setosa', 'Iris-setosa', 'Iris-setosa', 'Iris-setosa',\n",
              "       'Iris-setosa', 'Iris-setosa', 'Iris-setosa', 'Iris-setosa',\n",
              "       'Iris-setosa', 'Iris-setosa', 'Iris-setosa', 'Iris-setosa',\n",
              "       'Iris-setosa', 'Iris-setosa', 'Iris-setosa', 'Iris-setosa',\n",
              "       'Iris-setosa', 'Iris-setosa', 'Iris-setosa', 'Iris-setosa',\n",
              "       'Iris-setosa', 'Iris-setosa', 'Iris-setosa', 'Iris-setosa',\n",
              "       'Iris-setosa', 'Iris-setosa', 'Iris-setosa', 'Iris-setosa',\n",
              "       'Iris-setosa', 'Iris-setosa', 'Iris-setosa', 'Iris-setosa',\n",
              "       'Iris-setosa', 'Iris-setosa', 'Iris-setosa', 'Iris-setosa',\n",
              "       'Iris-setosa', 'Iris-setosa', 'Iris-setosa', 'Iris-setosa',\n",
              "       'Iris-setosa', 'Iris-setosa', 'Iris-setosa', 'Iris-setosa',\n",
              "       'Iris-setosa', 'Iris-setosa', 'Iris-setosa', 'Iris-setosa',\n",
              "       'Iris-setosa', 'Iris-setosa', 'Iris-versicolor', 'Iris-versicolor',\n",
              "       'Iris-versicolor', 'Iris-versicolor', 'Iris-versicolor',\n",
              "       'Iris-versicolor', 'Iris-versicolor', 'Iris-versicolor',\n",
              "       'Iris-versicolor', 'Iris-versicolor', 'Iris-versicolor',\n",
              "       'Iris-versicolor', 'Iris-versicolor', 'Iris-versicolor',\n",
              "       'Iris-versicolor', 'Iris-versicolor', 'Iris-versicolor',\n",
              "       'Iris-versicolor', 'Iris-versicolor', 'Iris-versicolor',\n",
              "       'Iris-versicolor', 'Iris-versicolor', 'Iris-versicolor',\n",
              "       'Iris-versicolor', 'Iris-versicolor', 'Iris-versicolor',\n",
              "       'Iris-versicolor', 'Iris-versicolor', 'Iris-versicolor',\n",
              "       'Iris-versicolor', 'Iris-versicolor', 'Iris-versicolor',\n",
              "       'Iris-versicolor', 'Iris-versicolor', 'Iris-versicolor',\n",
              "       'Iris-versicolor', 'Iris-versicolor', 'Iris-versicolor',\n",
              "       'Iris-versicolor', 'Iris-versicolor', 'Iris-versicolor',\n",
              "       'Iris-versicolor', 'Iris-versicolor', 'Iris-versicolor',\n",
              "       'Iris-versicolor', 'Iris-versicolor', 'Iris-versicolor',\n",
              "       'Iris-versicolor', 'Iris-versicolor', 'Iris-versicolor',\n",
              "       'Iris-virginica', 'Iris-virginica', 'Iris-virginica',\n",
              "       'Iris-virginica', 'Iris-virginica', 'Iris-virginica',\n",
              "       'Iris-virginica', 'Iris-virginica', 'Iris-virginica',\n",
              "       'Iris-virginica', 'Iris-virginica', 'Iris-virginica',\n",
              "       'Iris-virginica', 'Iris-virginica', 'Iris-virginica',\n",
              "       'Iris-virginica', 'Iris-virginica', 'Iris-virginica',\n",
              "       'Iris-virginica', 'Iris-virginica', 'Iris-virginica',\n",
              "       'Iris-virginica', 'Iris-virginica', 'Iris-virginica',\n",
              "       'Iris-virginica', 'Iris-virginica', 'Iris-virginica',\n",
              "       'Iris-virginica', 'Iris-virginica', 'Iris-virginica',\n",
              "       'Iris-virginica', 'Iris-virginica', 'Iris-virginica',\n",
              "       'Iris-virginica', 'Iris-virginica', 'Iris-virginica',\n",
              "       'Iris-virginica', 'Iris-virginica', 'Iris-virginica',\n",
              "       'Iris-virginica', 'Iris-virginica', 'Iris-virginica',\n",
              "       'Iris-virginica', 'Iris-virginica', 'Iris-virginica',\n",
              "       'Iris-virginica', 'Iris-virginica', 'Iris-virginica',\n",
              "       'Iris-virginica', 'Iris-virginica'], dtype=object)"
            ]
          },
          "metadata": {},
          "execution_count": 2
        }
      ],
      "source": [
        "\n",
        "import pandas as pd\n",
        "import numpy as np\n",
        "dd=pd.read_csv('Iris.csv')\n",
        "df=dd.values\n",
        "X=df[:,1:5]\n",
        "Y=df[:,5]\n",
        "Y\n"
      ]
    },
    {
      "cell_type": "markdown",
      "source": [
        "**Split the Training and Testing Data**"
      ],
      "metadata": {
        "id": "5UNWXK28_Bf-"
      }
    },
    {
      "cell_type": "code",
      "source": [
        "\n",
        "from sklearn.model_selection import train_test_split\n",
        "X_train,X_test,Y_train,Y_test= train_test_split(X,Y,test_size=0.2,random_state=10)\n",
        "X_test\n",
        "     "
      ],
      "metadata": {
        "colab": {
          "base_uri": "https://localhost:8080/"
        },
        "id": "YwSbXv3f_YGB",
        "outputId": "ad473e73-99d5-4a7b-ece0-18bfe8ae9347"
      },
      "execution_count": null,
      "outputs": [
        {
          "output_type": "execute_result",
          "data": {
            "text/plain": [
              "array([[6.3, 2.3, 4.4, 1.3],\n",
              "       [6.4, 2.7, 5.3, 1.9],\n",
              "       [5.4, 3.7, 1.5, 0.2],\n",
              "       [6.1, 3.0, 4.6, 1.4],\n",
              "       [5.0, 3.3, 1.4, 0.2],\n",
              "       [5.0, 2.0, 3.5, 1.0],\n",
              "       [6.3, 2.5, 4.9, 1.5],\n",
              "       [5.8, 2.7, 4.1, 1.0],\n",
              "       [5.1, 3.4, 1.5, 0.2],\n",
              "       [5.7, 2.8, 4.5, 1.3],\n",
              "       [5.6, 3.0, 4.5, 1.5],\n",
              "       [5.8, 2.7, 5.1, 1.9],\n",
              "       [5.5, 2.3, 4.0, 1.3],\n",
              "       [4.9, 3.0, 1.4, 0.2],\n",
              "       [5.1, 3.8, 1.5, 0.3],\n",
              "       [6.8, 3.0, 5.5, 2.1],\n",
              "       [6.0, 3.4, 4.5, 1.6],\n",
              "       [4.4, 3.0, 1.3, 0.2],\n",
              "       [5.1, 3.7, 1.5, 0.4],\n",
              "       [5.0, 3.2, 1.2, 0.2],\n",
              "       [7.1, 3.0, 5.9, 2.1],\n",
              "       [6.4, 2.8, 5.6, 2.2],\n",
              "       [6.2, 2.8, 4.8, 1.8],\n",
              "       [4.8, 3.4, 1.9, 0.2],\n",
              "       [5.9, 3.0, 4.2, 1.5],\n",
              "       [4.7, 3.2, 1.3, 0.2],\n",
              "       [5.7, 3.0, 4.2, 1.2],\n",
              "       [5.5, 2.6, 4.4, 1.2],\n",
              "       [6.8, 2.8, 4.8, 1.4],\n",
              "       [7.7, 3.8, 6.7, 2.2]], dtype=object)"
            ]
          },
          "metadata": {},
          "execution_count": 3
        }
      ]
    },
    {
      "cell_type": "markdown",
      "source": [
        "**Model1:Support Vector Machine(SVM)**"
      ],
      "metadata": {
        "id": "8pk4889d_bjn"
      }
    },
    {
      "cell_type": "code",
      "source": [
        "from sklearn.svm import SVC\n",
        "model_1= SVC()\n",
        "model_1.fit(X_train,Y_train)"
      ],
      "metadata": {
        "colab": {
          "base_uri": "https://localhost:8080/",
          "height": 74
        },
        "id": "aAvTh59s_iah",
        "outputId": "c2e76cc3-6d28-4f4d-a334-04f4d3009d5f"
      },
      "execution_count": null,
      "outputs": [
        {
          "output_type": "execute_result",
          "data": {
            "text/plain": [
              "SVC()"
            ],
            "text/html": [
              "<style>#sk-container-id-1 {color: black;background-color: white;}#sk-container-id-1 pre{padding: 0;}#sk-container-id-1 div.sk-toggleable {background-color: white;}#sk-container-id-1 label.sk-toggleable__label {cursor: pointer;display: block;width: 100%;margin-bottom: 0;padding: 0.3em;box-sizing: border-box;text-align: center;}#sk-container-id-1 label.sk-toggleable__label-arrow:before {content: \"▸\";float: left;margin-right: 0.25em;color: #696969;}#sk-container-id-1 label.sk-toggleable__label-arrow:hover:before {color: black;}#sk-container-id-1 div.sk-estimator:hover label.sk-toggleable__label-arrow:before {color: black;}#sk-container-id-1 div.sk-toggleable__content {max-height: 0;max-width: 0;overflow: hidden;text-align: left;background-color: #f0f8ff;}#sk-container-id-1 div.sk-toggleable__content pre {margin: 0.2em;color: black;border-radius: 0.25em;background-color: #f0f8ff;}#sk-container-id-1 input.sk-toggleable__control:checked~div.sk-toggleable__content {max-height: 200px;max-width: 100%;overflow: auto;}#sk-container-id-1 input.sk-toggleable__control:checked~label.sk-toggleable__label-arrow:before {content: \"▾\";}#sk-container-id-1 div.sk-estimator input.sk-toggleable__control:checked~label.sk-toggleable__label {background-color: #d4ebff;}#sk-container-id-1 div.sk-label input.sk-toggleable__control:checked~label.sk-toggleable__label {background-color: #d4ebff;}#sk-container-id-1 input.sk-hidden--visually {border: 0;clip: rect(1px 1px 1px 1px);clip: rect(1px, 1px, 1px, 1px);height: 1px;margin: -1px;overflow: hidden;padding: 0;position: absolute;width: 1px;}#sk-container-id-1 div.sk-estimator {font-family: monospace;background-color: #f0f8ff;border: 1px dotted black;border-radius: 0.25em;box-sizing: border-box;margin-bottom: 0.5em;}#sk-container-id-1 div.sk-estimator:hover {background-color: #d4ebff;}#sk-container-id-1 div.sk-parallel-item::after {content: \"\";width: 100%;border-bottom: 1px solid gray;flex-grow: 1;}#sk-container-id-1 div.sk-label:hover label.sk-toggleable__label {background-color: #d4ebff;}#sk-container-id-1 div.sk-serial::before {content: \"\";position: absolute;border-left: 1px solid gray;box-sizing: border-box;top: 0;bottom: 0;left: 50%;z-index: 0;}#sk-container-id-1 div.sk-serial {display: flex;flex-direction: column;align-items: center;background-color: white;padding-right: 0.2em;padding-left: 0.2em;position: relative;}#sk-container-id-1 div.sk-item {position: relative;z-index: 1;}#sk-container-id-1 div.sk-parallel {display: flex;align-items: stretch;justify-content: center;background-color: white;position: relative;}#sk-container-id-1 div.sk-item::before, #sk-container-id-1 div.sk-parallel-item::before {content: \"\";position: absolute;border-left: 1px solid gray;box-sizing: border-box;top: 0;bottom: 0;left: 50%;z-index: -1;}#sk-container-id-1 div.sk-parallel-item {display: flex;flex-direction: column;z-index: 1;position: relative;background-color: white;}#sk-container-id-1 div.sk-parallel-item:first-child::after {align-self: flex-end;width: 50%;}#sk-container-id-1 div.sk-parallel-item:last-child::after {align-self: flex-start;width: 50%;}#sk-container-id-1 div.sk-parallel-item:only-child::after {width: 0;}#sk-container-id-1 div.sk-dashed-wrapped {border: 1px dashed gray;margin: 0 0.4em 0.5em 0.4em;box-sizing: border-box;padding-bottom: 0.4em;background-color: white;}#sk-container-id-1 div.sk-label label {font-family: monospace;font-weight: bold;display: inline-block;line-height: 1.2em;}#sk-container-id-1 div.sk-label-container {text-align: center;}#sk-container-id-1 div.sk-container {/* jupyter's `normalize.less` sets `[hidden] { display: none; }` but bootstrap.min.css set `[hidden] { display: none !important; }` so we also need the `!important` here to be able to override the default hidden behavior on the sphinx rendered scikit-learn.org. See: https://github.com/scikit-learn/scikit-learn/issues/21755 */display: inline-block !important;position: relative;}#sk-container-id-1 div.sk-text-repr-fallback {display: none;}</style><div id=\"sk-container-id-1\" class=\"sk-top-container\"><div class=\"sk-text-repr-fallback\"><pre>SVC()</pre><b>In a Jupyter environment, please rerun this cell to show the HTML representation or trust the notebook. <br />On GitHub, the HTML representation is unable to render, please try loading this page with nbviewer.org.</b></div><div class=\"sk-container\" hidden><div class=\"sk-item\"><div class=\"sk-estimator sk-toggleable\"><input class=\"sk-toggleable__control sk-hidden--visually\" id=\"sk-estimator-id-1\" type=\"checkbox\" checked><label for=\"sk-estimator-id-1\" class=\"sk-toggleable__label sk-toggleable__label-arrow\">SVC</label><div class=\"sk-toggleable__content\"><pre>SVC()</pre></div></div></div></div></div>"
            ]
          },
          "metadata": {},
          "execution_count": 4
        }
      ]
    },
    {
      "cell_type": "code",
      "source": [
        "predict_model_1 =model_1.predict(X_test)\n",
        "\n",
        "from sklearn.metrics import accuracy_score\n",
        "print(accuracy_score(Y_test,predict_model_1)*100)\n",
        "for i in range(len(predict_model_1)):\n",
        "  print(Y_test[i],predict_model_1[i])\n"
      ],
      "metadata": {
        "colab": {
          "base_uri": "https://localhost:8080/"
        },
        "id": "FFE3rya__nT0",
        "outputId": "9f6b7bd8-ddd4-4072-b090-64b525fac8c3"
      },
      "execution_count": null,
      "outputs": [
        {
          "output_type": "stream",
          "name": "stdout",
          "text": [
            "96.66666666666667\n",
            "Iris-versicolor Iris-versicolor\n",
            "Iris-virginica Iris-virginica\n",
            "Iris-setosa Iris-setosa\n",
            "Iris-versicolor Iris-versicolor\n",
            "Iris-setosa Iris-setosa\n",
            "Iris-versicolor Iris-versicolor\n",
            "Iris-versicolor Iris-virginica\n",
            "Iris-versicolor Iris-versicolor\n",
            "Iris-setosa Iris-setosa\n",
            "Iris-versicolor Iris-versicolor\n",
            "Iris-versicolor Iris-versicolor\n",
            "Iris-virginica Iris-virginica\n",
            "Iris-versicolor Iris-versicolor\n",
            "Iris-setosa Iris-setosa\n",
            "Iris-setosa Iris-setosa\n",
            "Iris-virginica Iris-virginica\n",
            "Iris-versicolor Iris-versicolor\n",
            "Iris-setosa Iris-setosa\n",
            "Iris-setosa Iris-setosa\n",
            "Iris-setosa Iris-setosa\n",
            "Iris-virginica Iris-virginica\n",
            "Iris-virginica Iris-virginica\n",
            "Iris-virginica Iris-virginica\n",
            "Iris-setosa Iris-setosa\n",
            "Iris-versicolor Iris-versicolor\n",
            "Iris-setosa Iris-setosa\n",
            "Iris-versicolor Iris-versicolor\n",
            "Iris-versicolor Iris-versicolor\n",
            "Iris-versicolor Iris-versicolor\n",
            "Iris-virginica Iris-virginica\n"
          ]
        }
      ]
    },
    {
      "cell_type": "markdown",
      "source": [
        "**Model2: Logistic Regression**"
      ],
      "metadata": {
        "id": "bgWrbRA3_yk6"
      }
    },
    {
      "cell_type": "code",
      "source": [
        "from sklearn.linear_model import LogisticRegression\n",
        "model_2=LogisticRegression()\n",
        "model_2.fit(X_train,Y_train)\n",
        "predict_model_2=model_2.predict(X_test)\n",
        "print(accuracy_score(Y_test,predict_model_2)*100)\n",
        "for i in range(len(predict_model_2)):\n",
        "  print(Y_test[i],predict_model_2[i])"
      ],
      "metadata": {
        "colab": {
          "base_uri": "https://localhost:8080/"
        },
        "id": "qjKelaI2_3Qd",
        "outputId": "54ee53e2-9a8a-43d1-b360-852b4d396663"
      },
      "execution_count": null,
      "outputs": [
        {
          "output_type": "stream",
          "name": "stdout",
          "text": [
            "100.0\n",
            "Iris-versicolor Iris-versicolor\n",
            "Iris-virginica Iris-virginica\n",
            "Iris-setosa Iris-setosa\n",
            "Iris-versicolor Iris-versicolor\n",
            "Iris-setosa Iris-setosa\n",
            "Iris-versicolor Iris-versicolor\n",
            "Iris-versicolor Iris-versicolor\n",
            "Iris-versicolor Iris-versicolor\n",
            "Iris-setosa Iris-setosa\n",
            "Iris-versicolor Iris-versicolor\n",
            "Iris-versicolor Iris-versicolor\n",
            "Iris-virginica Iris-virginica\n",
            "Iris-versicolor Iris-versicolor\n",
            "Iris-setosa Iris-setosa\n",
            "Iris-setosa Iris-setosa\n",
            "Iris-virginica Iris-virginica\n",
            "Iris-versicolor Iris-versicolor\n",
            "Iris-setosa Iris-setosa\n",
            "Iris-setosa Iris-setosa\n",
            "Iris-setosa Iris-setosa\n",
            "Iris-virginica Iris-virginica\n",
            "Iris-virginica Iris-virginica\n",
            "Iris-virginica Iris-virginica\n",
            "Iris-setosa Iris-setosa\n",
            "Iris-versicolor Iris-versicolor\n",
            "Iris-setosa Iris-setosa\n",
            "Iris-versicolor Iris-versicolor\n",
            "Iris-versicolor Iris-versicolor\n",
            "Iris-versicolor Iris-versicolor\n",
            "Iris-virginica Iris-virginica\n"
          ]
        }
      ]
    },
    {
      "cell_type": "markdown",
      "source": [
        "**Model3: Decision Tree Classifier**"
      ],
      "metadata": {
        "id": "y2ESrhzf_6Oo"
      }
    },
    {
      "cell_type": "code",
      "source": [
        "from sklearn.tree import DecisionTreeClassifier\n",
        "model_3=DecisionTreeClassifier()\n",
        "model_3.fit(X_train,Y_train)\n",
        "predict_model_3=model_3.predict(X_test)\n",
        "print(accuracy_score(Y_test,predict_model_3)*100)\n",
        "for i in range(len(predict_model_3)):\n",
        "  print(Y_test[i],predict_model_3[i])"
      ],
      "metadata": {
        "colab": {
          "base_uri": "https://localhost:8080/"
        },
        "id": "mtvfitFH__Zw",
        "outputId": "39a25a00-ccf4-436e-9fc8-3635873f9d3c"
      },
      "execution_count": null,
      "outputs": [
        {
          "output_type": "stream",
          "name": "stdout",
          "text": [
            "96.66666666666667\n",
            "Iris-versicolor Iris-versicolor\n",
            "Iris-virginica Iris-virginica\n",
            "Iris-setosa Iris-setosa\n",
            "Iris-versicolor Iris-versicolor\n",
            "Iris-setosa Iris-setosa\n",
            "Iris-versicolor Iris-versicolor\n",
            "Iris-versicolor Iris-virginica\n",
            "Iris-versicolor Iris-versicolor\n",
            "Iris-setosa Iris-setosa\n",
            "Iris-versicolor Iris-versicolor\n",
            "Iris-versicolor Iris-versicolor\n",
            "Iris-virginica Iris-virginica\n",
            "Iris-versicolor Iris-versicolor\n",
            "Iris-setosa Iris-setosa\n",
            "Iris-setosa Iris-setosa\n",
            "Iris-virginica Iris-virginica\n",
            "Iris-versicolor Iris-versicolor\n",
            "Iris-setosa Iris-setosa\n",
            "Iris-setosa Iris-setosa\n",
            "Iris-setosa Iris-setosa\n",
            "Iris-virginica Iris-virginica\n",
            "Iris-virginica Iris-virginica\n",
            "Iris-virginica Iris-virginica\n",
            "Iris-setosa Iris-setosa\n",
            "Iris-versicolor Iris-versicolor\n",
            "Iris-setosa Iris-setosa\n",
            "Iris-versicolor Iris-versicolor\n",
            "Iris-versicolor Iris-versicolor\n",
            "Iris-versicolor Iris-versicolor\n",
            "Iris-virginica Iris-virginica\n"
          ]
        }
      ]
    },
    {
      "cell_type": "code",
      "source": [
        "# classification report for model 3\n",
        "from sklearn.metrics import classification_report\n",
        "print(classification_report(Y_test,predict_model_3))"
      ],
      "metadata": {
        "colab": {
          "base_uri": "https://localhost:8080/"
        },
        "id": "QgSxFhLSAEzH",
        "outputId": "371c2463-700a-4222-b8aa-8a589ed7b8ab"
      },
      "execution_count": null,
      "outputs": [
        {
          "output_type": "stream",
          "name": "stdout",
          "text": [
            "                 precision    recall  f1-score   support\n",
            "\n",
            "    Iris-setosa       1.00      1.00      1.00        10\n",
            "Iris-versicolor       1.00      0.92      0.96        13\n",
            " Iris-virginica       0.88      1.00      0.93         7\n",
            "\n",
            "       accuracy                           0.97        30\n",
            "      macro avg       0.96      0.97      0.96        30\n",
            "   weighted avg       0.97      0.97      0.97        30\n",
            "\n"
          ]
        }
      ]
    },
    {
      "cell_type": "markdown",
      "source": [
        "**Prediction of New Data**"
      ],
      "metadata": {
        "id": "tBYzptYnAGXL"
      }
    },
    {
      "cell_type": "code",
      "source": [
        "\n",
        "x_new=[5.2,2.4,4.8,1.2]\n",
        "arr=np.array(x_new)\n",
        "result=model_2.predict(arr.reshape(1,-1))\n",
        "result"
      ],
      "metadata": {
        "id": "7QcqJm6QAKqC",
        "outputId": "7d0eb21e-6d5e-4e14-e5ee-aeb1f04ea62e",
        "colab": {
          "base_uri": "https://localhost:8080/"
        }
      },
      "execution_count": null,
      "outputs": [
        {
          "output_type": "execute_result",
          "data": {
            "text/plain": [
              "array(['Iris-versicolor'], dtype=object)"
            ]
          },
          "metadata": {},
          "execution_count": 9
        }
      ]
    }
  ]
}